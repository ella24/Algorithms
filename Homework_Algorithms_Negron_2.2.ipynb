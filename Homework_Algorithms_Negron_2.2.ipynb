{
 "cells": [
  {
   "cell_type": "markdown",
   "metadata": {},
   "source": [
    "## Week 2-2 - Visualizing General Social Survey data\n",
    "\n",
    "Your mission is to analyze a data set of social attitudes by turning it into vectors, then visualizing the result.\n",
    "\n",
    "### 1. Choose a topic and get your data\n",
    "\n",
    "We're going to be working with data from the General Social Survey, which asks Americans thousands of questions ever year, over decades. This is an enormous data set and there have been very many stories written from its data. The first thing you need to do is decide which questions and which years you are going to try to analyze.\n",
    "\n",
    "Use their [data explorer](https://gssdataexplorer.norc.org/) to see what's available, and ultimately download an Excel file with the data. \n",
    "\n",
    "- Click the `Search Varibles` button.\n",
    "- You will need at least a dozen or two related variables. Try selecting some using their `Filter by Module / Subject` interface.\n",
    "- When you've made your selection, click the `+ All` button to add all listed variables, then choose `Extract Data` under the `Actions` menu.\n",
    "- Then you have a multi-step process. Step 1 is just naming your extract\n",
    "- Step 2: select variables *again!* Click `Add All` in the upper right of the \"Variable Cart\" in the \"Choose Variables\" step.\n",
    "- Step 3: Skip it. You could use this to filter the data in various ways. \n",
    "- Step 4: Click `Select certain years` to pick one year of data, then check `Excel Workbook (data + metadata)` as the output format.\n",
    "- Click `Create Extract` and wait a minute or two on the \"Extracts\" page until the spinner stops and turns into a download link.\n",
    "\n",
    "You'll end up with an compressed file in tar.gz format, which you should be able to decompressed by double-clicking on it. Inside is an Excel file. Open it in Excel (or your favorite spreadsheet program) and resave it as a CSV.\n",
    "\n",
    "\n",
    "\n"
   ]
  },
  {
   "cell_type": "code",
   "execution_count": 1,
   "metadata": {},
   "outputs": [],
   "source": [
    "import pandas as pd\n",
    "import numpy as np\n",
    "from sklearn.decomposition import PCA\n",
    "import matplotlib.pyplot as plt\n",
    "import math"
   ]
  },
  {
   "cell_type": "code",
   "execution_count": 2,
   "metadata": {},
   "outputs": [
    {
     "data": {
      "text/html": [
       "<div>\n",
       "<style scoped>\n",
       "    .dataframe tbody tr th:only-of-type {\n",
       "        vertical-align: middle;\n",
       "    }\n",
       "\n",
       "    .dataframe tbody tr th {\n",
       "        vertical-align: top;\n",
       "    }\n",
       "\n",
       "    .dataframe thead th {\n",
       "        text-align: right;\n",
       "    }\n",
       "</style>\n",
       "<table border=\"1\" class=\"dataframe\">\n",
       "  <thead>\n",
       "    <tr style=\"text-align: right;\">\n",
       "      <th></th>\n",
       "      <th>Gss year for this respondent</th>\n",
       "      <th>Who makes decision about how to bring up children</th>\n",
       "      <th>Single parents can raise kids as well as two</th>\n",
       "      <th>How often meet face to face with co-workers to work on projects</th>\n",
       "      <th>How often meet face to face with customers, clients, patients</th>\n",
       "      <th>R heard of persons in r's firm having jobs replaced by computers</th>\n",
       "      <th>Jobs created are better than r's current job</th>\n",
       "      <th>Science makes our lives better</th>\n",
       "      <th>Interested in technologies</th>\n",
       "      <th>Suicide if tired of living</th>\n",
       "      <th>Suicide if dishonored family</th>\n",
       "      <th>Suicide if bankrupt</th>\n",
       "      <th>Suicide if incurable disease</th>\n",
       "      <th>Rs living standard compared to parents</th>\n",
       "      <th>Reason not living with parents</th>\n",
       "      <th>Living with parents when 16 yrs old</th>\n",
       "      <th>Respondent id number</th>\n",
       "      <th>Ballot used for interview</th>\n",
       "    </tr>\n",
       "  </thead>\n",
       "  <tbody>\n",
       "    <tr>\n",
       "      <th>0</th>\n",
       "      <td>2016</td>\n",
       "      <td>Not applicable</td>\n",
       "      <td>Not applicable</td>\n",
       "      <td>Not applicable</td>\n",
       "      <td>Not applicable</td>\n",
       "      <td>Not applicable</td>\n",
       "      <td>Not applicable</td>\n",
       "      <td>Not applicable</td>\n",
       "      <td>Very interested</td>\n",
       "      <td>Yes</td>\n",
       "      <td>Yes</td>\n",
       "      <td>Yes</td>\n",
       "      <td>Yes</td>\n",
       "      <td>Not applicable</td>\n",
       "      <td>Not applicable</td>\n",
       "      <td>Mother &amp; father</td>\n",
       "      <td>1.0</td>\n",
       "      <td>Ballot a</td>\n",
       "    </tr>\n",
       "    <tr>\n",
       "      <th>1</th>\n",
       "      <td>2016</td>\n",
       "      <td>Not applicable</td>\n",
       "      <td>Not applicable</td>\n",
       "      <td>Not applicable</td>\n",
       "      <td>Not applicable</td>\n",
       "      <td>Not applicable</td>\n",
       "      <td>Not applicable</td>\n",
       "      <td>Not applicable</td>\n",
       "      <td>Moderately interested</td>\n",
       "      <td>Yes</td>\n",
       "      <td>No</td>\n",
       "      <td>No</td>\n",
       "      <td>Yes</td>\n",
       "      <td>About the same</td>\n",
       "      <td>Not applicable</td>\n",
       "      <td>Mother &amp; father</td>\n",
       "      <td>2.0</td>\n",
       "      <td>Ballot b</td>\n",
       "    </tr>\n",
       "    <tr>\n",
       "      <th>2</th>\n",
       "      <td>2016</td>\n",
       "      <td>Not applicable</td>\n",
       "      <td>Not applicable</td>\n",
       "      <td>Not applicable</td>\n",
       "      <td>Not applicable</td>\n",
       "      <td>Not applicable</td>\n",
       "      <td>Not applicable</td>\n",
       "      <td>Not applicable</td>\n",
       "      <td>Not applicable</td>\n",
       "      <td>Not applicable</td>\n",
       "      <td>Not applicable</td>\n",
       "      <td>Not applicable</td>\n",
       "      <td>Not applicable</td>\n",
       "      <td>About the same</td>\n",
       "      <td>Not applicable</td>\n",
       "      <td>Mother &amp; father</td>\n",
       "      <td>3.0</td>\n",
       "      <td>Ballot c</td>\n",
       "    </tr>\n",
       "    <tr>\n",
       "      <th>3</th>\n",
       "      <td>2016</td>\n",
       "      <td>Not applicable</td>\n",
       "      <td>Not applicable</td>\n",
       "      <td>Not applicable</td>\n",
       "      <td>Not applicable</td>\n",
       "      <td>Not applicable</td>\n",
       "      <td>Not applicable</td>\n",
       "      <td>Not applicable</td>\n",
       "      <td>Moderately interested</td>\n",
       "      <td>Yes</td>\n",
       "      <td>Yes</td>\n",
       "      <td>Yes</td>\n",
       "      <td>Yes</td>\n",
       "      <td>Not applicable</td>\n",
       "      <td>Divorce,separated</td>\n",
       "      <td>Mother</td>\n",
       "      <td>4.0</td>\n",
       "      <td>Ballot a</td>\n",
       "    </tr>\n",
       "    <tr>\n",
       "      <th>4</th>\n",
       "      <td>2016</td>\n",
       "      <td>Not applicable</td>\n",
       "      <td>Not applicable</td>\n",
       "      <td>Not applicable</td>\n",
       "      <td>Not applicable</td>\n",
       "      <td>Not applicable</td>\n",
       "      <td>Not applicable</td>\n",
       "      <td>Not applicable</td>\n",
       "      <td>Not applicable</td>\n",
       "      <td>Not applicable</td>\n",
       "      <td>Not applicable</td>\n",
       "      <td>Not applicable</td>\n",
       "      <td>Not applicable</td>\n",
       "      <td>About the same</td>\n",
       "      <td>Not applicable</td>\n",
       "      <td>Mother &amp; father</td>\n",
       "      <td>5.0</td>\n",
       "      <td>Ballot c</td>\n",
       "    </tr>\n",
       "  </tbody>\n",
       "</table>\n",
       "</div>"
      ],
      "text/plain": [
       "  Gss year for this respondent                         \\\n",
       "0                                               2016    \n",
       "1                                               2016    \n",
       "2                                               2016    \n",
       "3                                               2016    \n",
       "4                                               2016    \n",
       "\n",
       "  Who makes decision about how to bring up children  \\\n",
       "0                                    Not applicable   \n",
       "1                                    Not applicable   \n",
       "2                                    Not applicable   \n",
       "3                                    Not applicable   \n",
       "4                                    Not applicable   \n",
       "\n",
       "  Single parents can raise kids as well as two  \\\n",
       "0                               Not applicable   \n",
       "1                               Not applicable   \n",
       "2                               Not applicable   \n",
       "3                               Not applicable   \n",
       "4                               Not applicable   \n",
       "\n",
       "  How often meet face to face with co-workers to work on projects  \\\n",
       "0                                     Not applicable                \n",
       "1                                     Not applicable                \n",
       "2                                     Not applicable                \n",
       "3                                     Not applicable                \n",
       "4                                     Not applicable                \n",
       "\n",
       "  How often meet face to face with customers, clients, patients  \\\n",
       "0                                     Not applicable              \n",
       "1                                     Not applicable              \n",
       "2                                     Not applicable              \n",
       "3                                     Not applicable              \n",
       "4                                     Not applicable              \n",
       "\n",
       "  R heard of persons in r's firm having jobs replaced by computers  \\\n",
       "0                                     Not applicable                 \n",
       "1                                     Not applicable                 \n",
       "2                                     Not applicable                 \n",
       "3                                     Not applicable                 \n",
       "4                                     Not applicable                 \n",
       "\n",
       "  Jobs created are better than r's current job Science makes our lives better  \\\n",
       "0                               Not applicable                 Not applicable   \n",
       "1                               Not applicable                 Not applicable   \n",
       "2                               Not applicable                 Not applicable   \n",
       "3                               Not applicable                 Not applicable   \n",
       "4                               Not applicable                 Not applicable   \n",
       "\n",
       "  Interested in technologies Suicide if tired of living  \\\n",
       "0            Very interested                        Yes   \n",
       "1      Moderately interested                        Yes   \n",
       "2             Not applicable             Not applicable   \n",
       "3      Moderately interested                        Yes   \n",
       "4             Not applicable             Not applicable   \n",
       "\n",
       "  Suicide if dishonored family Suicide if bankrupt  \\\n",
       "0                          Yes                 Yes   \n",
       "1                           No                  No   \n",
       "2               Not applicable      Not applicable   \n",
       "3                          Yes                 Yes   \n",
       "4               Not applicable      Not applicable   \n",
       "\n",
       "  Suicide if incurable disease Rs living standard compared to parents  \\\n",
       "0                          Yes                         Not applicable   \n",
       "1                          Yes                         About the same   \n",
       "2               Not applicable                         About the same   \n",
       "3                          Yes                         Not applicable   \n",
       "4               Not applicable                         About the same   \n",
       "\n",
       "  Reason not living with parents Living with parents when 16 yrs old  \\\n",
       "0                 Not applicable                     Mother & father   \n",
       "1                 Not applicable                     Mother & father   \n",
       "2                 Not applicable                     Mother & father   \n",
       "3              Divorce,separated                              Mother   \n",
       "4                 Not applicable                     Mother & father   \n",
       "\n",
       "   Respondent id number Ballot used for interview  \n",
       "0                   1.0                  Ballot a  \n",
       "1                   2.0                  Ballot b  \n",
       "2                   3.0                  Ballot c  \n",
       "3                   4.0                  Ballot a  \n",
       "4                   5.0                  Ballot c  "
      ]
     },
     "execution_count": 2,
     "metadata": {},
     "output_type": "execute_result"
    }
   ],
   "source": [
    "#My data\n",
    "gss = pd.read_csv('General Social Survey.csv')\n",
    "gss.head()"
   ]
  },
  {
   "cell_type": "code",
   "execution_count": 3,
   "metadata": {},
   "outputs": [
    {
     "data": {
      "text/plain": [
       "(2869, 18)"
      ]
     },
     "execution_count": 3,
     "metadata": {},
     "output_type": "execute_result"
    }
   ],
   "source": [
    "gss.shape"
   ]
  },
  {
   "cell_type": "code",
   "execution_count": 4,
   "metadata": {},
   "outputs": [
    {
     "data": {
      "text/html": [
       "<div>\n",
       "<style scoped>\n",
       "    .dataframe tbody tr th:only-of-type {\n",
       "        vertical-align: middle;\n",
       "    }\n",
       "\n",
       "    .dataframe tbody tr th {\n",
       "        vertical-align: top;\n",
       "    }\n",
       "\n",
       "    .dataframe thead th {\n",
       "        text-align: right;\n",
       "    }\n",
       "</style>\n",
       "<table border=\"1\" class=\"dataframe\">\n",
       "  <thead>\n",
       "    <tr style=\"text-align: right;\">\n",
       "      <th></th>\n",
       "      <th>Gss year for this respondent</th>\n",
       "      <th>Who makes decision about how to bring up children</th>\n",
       "      <th>Single parents can raise kids as well as two</th>\n",
       "      <th>How often meet face to face with co-workers to work on projects</th>\n",
       "      <th>How often meet face to face with customers, clients, patients</th>\n",
       "      <th>R heard of persons in r's firm having jobs replaced by computers</th>\n",
       "      <th>Jobs created are better than r's current job</th>\n",
       "      <th>Science makes our lives better</th>\n",
       "      <th>Interested in technologies</th>\n",
       "      <th>Suicide if tired of living</th>\n",
       "      <th>Suicide if dishonored family</th>\n",
       "      <th>Suicide if bankrupt</th>\n",
       "      <th>Suicide if incurable disease</th>\n",
       "      <th>Rs living standard compared to parents</th>\n",
       "      <th>Reason not living with parents</th>\n",
       "      <th>Living with parents when 16 yrs old</th>\n",
       "      <th>Respondent id number</th>\n",
       "      <th>Ballot used for interview</th>\n",
       "    </tr>\n",
       "  </thead>\n",
       "  <tbody>\n",
       "    <tr>\n",
       "      <th>2864</th>\n",
       "      <td>2016</td>\n",
       "      <td>Not applicable</td>\n",
       "      <td>Not applicable</td>\n",
       "      <td>Not applicable</td>\n",
       "      <td>Not applicable</td>\n",
       "      <td>Not applicable</td>\n",
       "      <td>Not applicable</td>\n",
       "      <td>Not applicable</td>\n",
       "      <td>Not applicable</td>\n",
       "      <td>No</td>\n",
       "      <td>No</td>\n",
       "      <td>No</td>\n",
       "      <td>Yes</td>\n",
       "      <td>About the same</td>\n",
       "      <td>Not applicable</td>\n",
       "      <td>Mother &amp; father</td>\n",
       "      <td>2865.0</td>\n",
       "      <td>Ballot b</td>\n",
       "    </tr>\n",
       "    <tr>\n",
       "      <th>2865</th>\n",
       "      <td>2016</td>\n",
       "      <td>Not applicable</td>\n",
       "      <td>Not applicable</td>\n",
       "      <td>Not applicable</td>\n",
       "      <td>Not applicable</td>\n",
       "      <td>Not applicable</td>\n",
       "      <td>Not applicable</td>\n",
       "      <td>Not applicable</td>\n",
       "      <td>Very interested</td>\n",
       "      <td>No</td>\n",
       "      <td>No</td>\n",
       "      <td>No</td>\n",
       "      <td>Yes</td>\n",
       "      <td>Not applicable</td>\n",
       "      <td>Divorce,separated</td>\n",
       "      <td>Mother &amp; stpfather</td>\n",
       "      <td>2866.0</td>\n",
       "      <td>Ballot a</td>\n",
       "    </tr>\n",
       "    <tr>\n",
       "      <th>2866</th>\n",
       "      <td>2016</td>\n",
       "      <td>Not applicable</td>\n",
       "      <td>Not applicable</td>\n",
       "      <td>Not applicable</td>\n",
       "      <td>Not applicable</td>\n",
       "      <td>Not applicable</td>\n",
       "      <td>Not applicable</td>\n",
       "      <td>Not applicable</td>\n",
       "      <td>Not applicable</td>\n",
       "      <td>Not applicable</td>\n",
       "      <td>Not applicable</td>\n",
       "      <td>Not applicable</td>\n",
       "      <td>Not applicable</td>\n",
       "      <td>Somewhat better</td>\n",
       "      <td>Divorce,separated</td>\n",
       "      <td>Mother</td>\n",
       "      <td>2867.0</td>\n",
       "      <td>Ballot c</td>\n",
       "    </tr>\n",
       "    <tr>\n",
       "      <th>2867</th>\n",
       "      <td>NaN</td>\n",
       "      <td>NaN</td>\n",
       "      <td>NaN</td>\n",
       "      <td>NaN</td>\n",
       "      <td>NaN</td>\n",
       "      <td>NaN</td>\n",
       "      <td>NaN</td>\n",
       "      <td>NaN</td>\n",
       "      <td>NaN</td>\n",
       "      <td>NaN</td>\n",
       "      <td>NaN</td>\n",
       "      <td>NaN</td>\n",
       "      <td>NaN</td>\n",
       "      <td>NaN</td>\n",
       "      <td>NaN</td>\n",
       "      <td>NaN</td>\n",
       "      <td>NaN</td>\n",
       "      <td>NaN</td>\n",
       "    </tr>\n",
       "    <tr>\n",
       "      <th>2868</th>\n",
       "      <td>Source</td>\n",
       "      <td>Data collection: General Social Survey\\nCase S...</td>\n",
       "      <td>NaN</td>\n",
       "      <td>NaN</td>\n",
       "      <td>NaN</td>\n",
       "      <td>NaN</td>\n",
       "      <td>NaN</td>\n",
       "      <td>NaN</td>\n",
       "      <td>NaN</td>\n",
       "      <td>NaN</td>\n",
       "      <td>NaN</td>\n",
       "      <td>NaN</td>\n",
       "      <td>NaN</td>\n",
       "      <td>NaN</td>\n",
       "      <td>NaN</td>\n",
       "      <td>NaN</td>\n",
       "      <td>NaN</td>\n",
       "      <td>NaN</td>\n",
       "    </tr>\n",
       "  </tbody>\n",
       "</table>\n",
       "</div>"
      ],
      "text/plain": [
       "     Gss year for this respondent                         \\\n",
       "2864                                               2016    \n",
       "2865                                               2016    \n",
       "2866                                               2016    \n",
       "2867                                                NaN    \n",
       "2868                                             Source    \n",
       "\n",
       "      Who makes decision about how to bring up children  \\\n",
       "2864                                     Not applicable   \n",
       "2865                                     Not applicable   \n",
       "2866                                     Not applicable   \n",
       "2867                                                NaN   \n",
       "2868  Data collection: General Social Survey\\nCase S...   \n",
       "\n",
       "     Single parents can raise kids as well as two  \\\n",
       "2864                               Not applicable   \n",
       "2865                               Not applicable   \n",
       "2866                               Not applicable   \n",
       "2867                                          NaN   \n",
       "2868                                          NaN   \n",
       "\n",
       "     How often meet face to face with co-workers to work on projects  \\\n",
       "2864                                     Not applicable                \n",
       "2865                                     Not applicable                \n",
       "2866                                     Not applicable                \n",
       "2867                                                NaN                \n",
       "2868                                                NaN                \n",
       "\n",
       "     How often meet face to face with customers, clients, patients  \\\n",
       "2864                                     Not applicable              \n",
       "2865                                     Not applicable              \n",
       "2866                                     Not applicable              \n",
       "2867                                                NaN              \n",
       "2868                                                NaN              \n",
       "\n",
       "     R heard of persons in r's firm having jobs replaced by computers  \\\n",
       "2864                                     Not applicable                 \n",
       "2865                                     Not applicable                 \n",
       "2866                                     Not applicable                 \n",
       "2867                                                NaN                 \n",
       "2868                                                NaN                 \n",
       "\n",
       "     Jobs created are better than r's current job  \\\n",
       "2864                               Not applicable   \n",
       "2865                               Not applicable   \n",
       "2866                               Not applicable   \n",
       "2867                                          NaN   \n",
       "2868                                          NaN   \n",
       "\n",
       "     Science makes our lives better Interested in technologies  \\\n",
       "2864                 Not applicable             Not applicable   \n",
       "2865                 Not applicable            Very interested   \n",
       "2866                 Not applicable             Not applicable   \n",
       "2867                            NaN                        NaN   \n",
       "2868                            NaN                        NaN   \n",
       "\n",
       "     Suicide if tired of living Suicide if dishonored family  \\\n",
       "2864                         No                           No   \n",
       "2865                         No                           No   \n",
       "2866             Not applicable               Not applicable   \n",
       "2867                        NaN                          NaN   \n",
       "2868                        NaN                          NaN   \n",
       "\n",
       "     Suicide if bankrupt Suicide if incurable disease  \\\n",
       "2864                  No                          Yes   \n",
       "2865                  No                          Yes   \n",
       "2866      Not applicable               Not applicable   \n",
       "2867                 NaN                          NaN   \n",
       "2868                 NaN                          NaN   \n",
       "\n",
       "     Rs living standard compared to parents Reason not living with parents  \\\n",
       "2864                         About the same                 Not applicable   \n",
       "2865                         Not applicable              Divorce,separated   \n",
       "2866                        Somewhat better              Divorce,separated   \n",
       "2867                                    NaN                            NaN   \n",
       "2868                                    NaN                            NaN   \n",
       "\n",
       "     Living with parents when 16 yrs old  Respondent id number  \\\n",
       "2864                     Mother & father                2865.0   \n",
       "2865                  Mother & stpfather                2866.0   \n",
       "2866                              Mother                2867.0   \n",
       "2867                                 NaN                   NaN   \n",
       "2868                                 NaN                   NaN   \n",
       "\n",
       "     Ballot used for interview  \n",
       "2864                  Ballot b  \n",
       "2865                  Ballot a  \n",
       "2866                  Ballot c  \n",
       "2867                       NaN  \n",
       "2868                       NaN  "
      ]
     },
     "execution_count": 4,
     "metadata": {},
     "output_type": "execute_result"
    }
   ],
   "source": [
    "gss.tail()"
   ]
  },
  {
   "cell_type": "code",
   "execution_count": 5,
   "metadata": {},
   "outputs": [
    {
     "data": {
      "text/plain": [
       "Index(['Gss year for this respondent                       ',\n",
       "       'Who makes decision about how to bring up children',\n",
       "       'Single parents can raise kids as well as two',\n",
       "       'How often meet face to face with co-workers to work on projects',\n",
       "       'How often meet face to face with customers, clients, patients',\n",
       "       'R heard of persons in r's firm having jobs replaced by computers',\n",
       "       'Jobs created are better than r's current job',\n",
       "       'Science makes our lives better', 'Interested in technologies',\n",
       "       'Suicide if tired of living', 'Suicide if dishonored family',\n",
       "       'Suicide if bankrupt', 'Suicide if incurable disease',\n",
       "       'Rs living standard compared to parents',\n",
       "       'Reason not living with parents', 'Living with parents when 16 yrs old',\n",
       "       'Respondent id number', 'Ballot used for interview'],\n",
       "      dtype='object')"
      ]
     },
     "execution_count": 5,
     "metadata": {},
     "output_type": "execute_result"
    }
   ],
   "source": [
    "gss.dtypes\n",
    "gss.columns"
   ]
  },
  {
   "cell_type": "code",
   "execution_count": 6,
   "metadata": {},
   "outputs": [
    {
     "data": {
      "text/html": [
       "<div>\n",
       "<style scoped>\n",
       "    .dataframe tbody tr th:only-of-type {\n",
       "        vertical-align: middle;\n",
       "    }\n",
       "\n",
       "    .dataframe tbody tr th {\n",
       "        vertical-align: top;\n",
       "    }\n",
       "\n",
       "    .dataframe thead th {\n",
       "        text-align: right;\n",
       "    }\n",
       "</style>\n",
       "<table border=\"1\" class=\"dataframe\">\n",
       "  <thead>\n",
       "    <tr style=\"text-align: right;\">\n",
       "      <th></th>\n",
       "      <th>Gss year for this respondent</th>\n",
       "      <th>Who makes decision about how to bring up children</th>\n",
       "      <th>Single parents can raise kids as well as two</th>\n",
       "      <th>How often meet face to face with co-workers to work on projects</th>\n",
       "      <th>How often meet face to face with customers, clients, patients</th>\n",
       "      <th>R heard of persons in r's firm having jobs replaced by computers</th>\n",
       "      <th>Jobs created are better than r's current job</th>\n",
       "      <th>Science makes our lives better</th>\n",
       "      <th>Interested in technologies</th>\n",
       "      <th>Suicide if tired of living</th>\n",
       "      <th>Suicide if dishonored family</th>\n",
       "      <th>Suicide if bankrupt</th>\n",
       "      <th>Suicide if incurable disease</th>\n",
       "      <th>Rs living standard compared to parents</th>\n",
       "      <th>Reason not living with parents</th>\n",
       "      <th>Living with parents when 16 yrs old</th>\n",
       "      <th>Respondent id number</th>\n",
       "      <th>Ballot used for interview</th>\n",
       "    </tr>\n",
       "  </thead>\n",
       "  <tbody>\n",
       "    <tr>\n",
       "      <th>0</th>\n",
       "      <td>2016</td>\n",
       "      <td>Not applicable</td>\n",
       "      <td>Not applicable</td>\n",
       "      <td>Not applicable</td>\n",
       "      <td>Not applicable</td>\n",
       "      <td>Not applicable</td>\n",
       "      <td>Not applicable</td>\n",
       "      <td>Not applicable</td>\n",
       "      <td>Very interested</td>\n",
       "      <td>Yes</td>\n",
       "      <td>Yes</td>\n",
       "      <td>Yes</td>\n",
       "      <td>Yes</td>\n",
       "      <td>Not applicable</td>\n",
       "      <td>Not applicable</td>\n",
       "      <td>Mother &amp; father</td>\n",
       "      <td>1.0</td>\n",
       "      <td>Ballot a</td>\n",
       "    </tr>\n",
       "    <tr>\n",
       "      <th>1</th>\n",
       "      <td>2016</td>\n",
       "      <td>Not applicable</td>\n",
       "      <td>Not applicable</td>\n",
       "      <td>Not applicable</td>\n",
       "      <td>Not applicable</td>\n",
       "      <td>Not applicable</td>\n",
       "      <td>Not applicable</td>\n",
       "      <td>Not applicable</td>\n",
       "      <td>Moderately interested</td>\n",
       "      <td>Yes</td>\n",
       "      <td>No</td>\n",
       "      <td>No</td>\n",
       "      <td>Yes</td>\n",
       "      <td>About the same</td>\n",
       "      <td>Not applicable</td>\n",
       "      <td>Mother &amp; father</td>\n",
       "      <td>2.0</td>\n",
       "      <td>Ballot b</td>\n",
       "    </tr>\n",
       "    <tr>\n",
       "      <th>2</th>\n",
       "      <td>2016</td>\n",
       "      <td>Not applicable</td>\n",
       "      <td>Not applicable</td>\n",
       "      <td>Not applicable</td>\n",
       "      <td>Not applicable</td>\n",
       "      <td>Not applicable</td>\n",
       "      <td>Not applicable</td>\n",
       "      <td>Not applicable</td>\n",
       "      <td>Not applicable</td>\n",
       "      <td>Not applicable</td>\n",
       "      <td>Not applicable</td>\n",
       "      <td>Not applicable</td>\n",
       "      <td>Not applicable</td>\n",
       "      <td>About the same</td>\n",
       "      <td>Not applicable</td>\n",
       "      <td>Mother &amp; father</td>\n",
       "      <td>3.0</td>\n",
       "      <td>Ballot c</td>\n",
       "    </tr>\n",
       "    <tr>\n",
       "      <th>3</th>\n",
       "      <td>2016</td>\n",
       "      <td>Not applicable</td>\n",
       "      <td>Not applicable</td>\n",
       "      <td>Not applicable</td>\n",
       "      <td>Not applicable</td>\n",
       "      <td>Not applicable</td>\n",
       "      <td>Not applicable</td>\n",
       "      <td>Not applicable</td>\n",
       "      <td>Moderately interested</td>\n",
       "      <td>Yes</td>\n",
       "      <td>Yes</td>\n",
       "      <td>Yes</td>\n",
       "      <td>Yes</td>\n",
       "      <td>Not applicable</td>\n",
       "      <td>Divorce,separated</td>\n",
       "      <td>Mother</td>\n",
       "      <td>4.0</td>\n",
       "      <td>Ballot a</td>\n",
       "    </tr>\n",
       "    <tr>\n",
       "      <th>4</th>\n",
       "      <td>2016</td>\n",
       "      <td>Not applicable</td>\n",
       "      <td>Not applicable</td>\n",
       "      <td>Not applicable</td>\n",
       "      <td>Not applicable</td>\n",
       "      <td>Not applicable</td>\n",
       "      <td>Not applicable</td>\n",
       "      <td>Not applicable</td>\n",
       "      <td>Not applicable</td>\n",
       "      <td>Not applicable</td>\n",
       "      <td>Not applicable</td>\n",
       "      <td>Not applicable</td>\n",
       "      <td>Not applicable</td>\n",
       "      <td>About the same</td>\n",
       "      <td>Not applicable</td>\n",
       "      <td>Mother &amp; father</td>\n",
       "      <td>5.0</td>\n",
       "      <td>Ballot c</td>\n",
       "    </tr>\n",
       "  </tbody>\n",
       "</table>\n",
       "</div>"
      ],
      "text/plain": [
       "  Gss year for this respondent                         \\\n",
       "0                                               2016    \n",
       "1                                               2016    \n",
       "2                                               2016    \n",
       "3                                               2016    \n",
       "4                                               2016    \n",
       "\n",
       "  Who makes decision about how to bring up children  \\\n",
       "0                                    Not applicable   \n",
       "1                                    Not applicable   \n",
       "2                                    Not applicable   \n",
       "3                                    Not applicable   \n",
       "4                                    Not applicable   \n",
       "\n",
       "  Single parents can raise kids as well as two  \\\n",
       "0                               Not applicable   \n",
       "1                               Not applicable   \n",
       "2                               Not applicable   \n",
       "3                               Not applicable   \n",
       "4                               Not applicable   \n",
       "\n",
       "  How often meet face to face with co-workers to work on projects  \\\n",
       "0                                     Not applicable                \n",
       "1                                     Not applicable                \n",
       "2                                     Not applicable                \n",
       "3                                     Not applicable                \n",
       "4                                     Not applicable                \n",
       "\n",
       "  How often meet face to face with customers, clients, patients  \\\n",
       "0                                     Not applicable              \n",
       "1                                     Not applicable              \n",
       "2                                     Not applicable              \n",
       "3                                     Not applicable              \n",
       "4                                     Not applicable              \n",
       "\n",
       "  R heard of persons in r's firm having jobs replaced by computers  \\\n",
       "0                                     Not applicable                 \n",
       "1                                     Not applicable                 \n",
       "2                                     Not applicable                 \n",
       "3                                     Not applicable                 \n",
       "4                                     Not applicable                 \n",
       "\n",
       "  Jobs created are better than r's current job Science makes our lives better  \\\n",
       "0                               Not applicable                 Not applicable   \n",
       "1                               Not applicable                 Not applicable   \n",
       "2                               Not applicable                 Not applicable   \n",
       "3                               Not applicable                 Not applicable   \n",
       "4                               Not applicable                 Not applicable   \n",
       "\n",
       "  Interested in technologies Suicide if tired of living  \\\n",
       "0            Very interested                        Yes   \n",
       "1      Moderately interested                        Yes   \n",
       "2             Not applicable             Not applicable   \n",
       "3      Moderately interested                        Yes   \n",
       "4             Not applicable             Not applicable   \n",
       "\n",
       "  Suicide if dishonored family Suicide if bankrupt  \\\n",
       "0                          Yes                 Yes   \n",
       "1                           No                  No   \n",
       "2               Not applicable      Not applicable   \n",
       "3                          Yes                 Yes   \n",
       "4               Not applicable      Not applicable   \n",
       "\n",
       "  Suicide if incurable disease Rs living standard compared to parents  \\\n",
       "0                          Yes                         Not applicable   \n",
       "1                          Yes                         About the same   \n",
       "2               Not applicable                         About the same   \n",
       "3                          Yes                         Not applicable   \n",
       "4               Not applicable                         About the same   \n",
       "\n",
       "  Reason not living with parents Living with parents when 16 yrs old  \\\n",
       "0                 Not applicable                     Mother & father   \n",
       "1                 Not applicable                     Mother & father   \n",
       "2                 Not applicable                     Mother & father   \n",
       "3              Divorce,separated                              Mother   \n",
       "4                 Not applicable                     Mother & father   \n",
       "\n",
       "   Respondent id number Ballot used for interview  \n",
       "0                   1.0                  Ballot a  \n",
       "1                   2.0                  Ballot b  \n",
       "2                   3.0                  Ballot c  \n",
       "3                   4.0                  Ballot a  \n",
       "4                   5.0                  Ballot c  "
      ]
     },
     "execution_count": 6,
     "metadata": {},
     "output_type": "execute_result"
    }
   ],
   "source": [
    "gss.head(5)"
   ]
  },
  {
   "cell_type": "markdown",
   "metadata": {},
   "source": [
    "### 3. Turn people  into vectors\n",
    "I know, it sounds cruel. We're trying to group people, but computers can only group vectors, so there we are. \n",
    "\n",
    "Translating the spreadsheet you downloaded from GSS Explorer into vectors is a multistep process. Generally, each row of the spreadsheet is one person, and each column is one qeustion. \n",
    "\n",
    "- First, we need to throw away any extra rows and columns: headers, questions with no data, etc.\n",
    "- Many GSS questions already have numerical answers. These usually don't require any work.\n",
    "- But you'll need to turn categorical variables into numbers.\n",
    "\n",
    "Basically, you have to remove or convert every value that isn't a number. Because this is survey data, we can turn most questions into an integer scale. The cleanup might use functions like this:"
   ]
  },
  {
   "cell_type": "code",
   "execution_count": 7,
   "metadata": {},
   "outputs": [
    {
     "data": {
      "text/html": [
       "<div>\n",
       "<style scoped>\n",
       "    .dataframe tbody tr th:only-of-type {\n",
       "        vertical-align: middle;\n",
       "    }\n",
       "\n",
       "    .dataframe tbody tr th {\n",
       "        vertical-align: top;\n",
       "    }\n",
       "\n",
       "    .dataframe thead th {\n",
       "        text-align: right;\n",
       "    }\n",
       "</style>\n",
       "<table border=\"1\" class=\"dataframe\">\n",
       "  <thead>\n",
       "    <tr style=\"text-align: right;\">\n",
       "      <th></th>\n",
       "      <th>Gss year for this respondent</th>\n",
       "      <th>Who makes decision about how to bring up children</th>\n",
       "      <th>Single parents can raise kids as well as two</th>\n",
       "      <th>How often meet face to face with co-workers to work on projects</th>\n",
       "      <th>How often meet face to face with customers, clients, patients</th>\n",
       "      <th>R heard of persons in r's firm having jobs replaced by computers</th>\n",
       "      <th>Jobs created are better than r's current job</th>\n",
       "      <th>Science makes our lives better</th>\n",
       "      <th>Interested in technologies</th>\n",
       "      <th>Suicide if tired of living</th>\n",
       "      <th>Suicide if dishonored family</th>\n",
       "      <th>Suicide if bankrupt</th>\n",
       "      <th>Suicide if incurable disease</th>\n",
       "      <th>Rs living standard compared to parents</th>\n",
       "      <th>Reason not living with parents</th>\n",
       "      <th>Living with parents when 16 yrs old</th>\n",
       "      <th>Respondent id number</th>\n",
       "      <th>Ballot used for interview</th>\n",
       "    </tr>\n",
       "  </thead>\n",
       "  <tbody>\n",
       "    <tr>\n",
       "      <th>2866</th>\n",
       "      <td>2016</td>\n",
       "      <td>Not applicable</td>\n",
       "      <td>Not applicable</td>\n",
       "      <td>Not applicable</td>\n",
       "      <td>Not applicable</td>\n",
       "      <td>Not applicable</td>\n",
       "      <td>Not applicable</td>\n",
       "      <td>Not applicable</td>\n",
       "      <td>Not applicable</td>\n",
       "      <td>Not applicable</td>\n",
       "      <td>Not applicable</td>\n",
       "      <td>Not applicable</td>\n",
       "      <td>Not applicable</td>\n",
       "      <td>Somewhat better</td>\n",
       "      <td>Divorce,separated</td>\n",
       "      <td>Mother</td>\n",
       "      <td>2867.0</td>\n",
       "      <td>Ballot c</td>\n",
       "    </tr>\n",
       "  </tbody>\n",
       "</table>\n",
       "</div>"
      ],
      "text/plain": [
       "     Gss year for this respondent                         \\\n",
       "2866                                               2016    \n",
       "\n",
       "     Who makes decision about how to bring up children  \\\n",
       "2866                                    Not applicable   \n",
       "\n",
       "     Single parents can raise kids as well as two  \\\n",
       "2866                               Not applicable   \n",
       "\n",
       "     How often meet face to face with co-workers to work on projects  \\\n",
       "2866                                     Not applicable                \n",
       "\n",
       "     How often meet face to face with customers, clients, patients  \\\n",
       "2866                                     Not applicable              \n",
       "\n",
       "     R heard of persons in r's firm having jobs replaced by computers  \\\n",
       "2866                                     Not applicable                 \n",
       "\n",
       "     Jobs created are better than r's current job  \\\n",
       "2866                               Not applicable   \n",
       "\n",
       "     Science makes our lives better Interested in technologies  \\\n",
       "2866                 Not applicable             Not applicable   \n",
       "\n",
       "     Suicide if tired of living Suicide if dishonored family  \\\n",
       "2866             Not applicable               Not applicable   \n",
       "\n",
       "     Suicide if bankrupt Suicide if incurable disease  \\\n",
       "2866      Not applicable               Not applicable   \n",
       "\n",
       "     Rs living standard compared to parents Reason not living with parents  \\\n",
       "2866                        Somewhat better              Divorce,separated   \n",
       "\n",
       "     Living with parents when 16 yrs old  Respondent id number  \\\n",
       "2866                              Mother                2867.0   \n",
       "\n",
       "     Ballot used for interview  \n",
       "2866                  Ballot c  "
      ]
     },
     "execution_count": 7,
     "metadata": {},
     "output_type": "execute_result"
    }
   ],
   "source": [
    "# droping the last two rows, which are just notes and do not contain data\n",
    "gss = gss.iloc[0:-2,:]\n",
    "gss.tail(1)"
   ]
  },
  {
   "cell_type": "code",
   "execution_count": 8,
   "metadata": {},
   "outputs": [
    {
     "data": {
      "text/plain": [
       "Not applicable    2867\n",
       "Name: Who makes decision about how to bring up children, dtype: int64"
      ]
     },
     "execution_count": 8,
     "metadata": {},
     "output_type": "execute_result"
    }
   ],
   "source": [
    "gss['Who makes decision about how to bring up children'].value_counts()"
   ]
  },
  {
   "cell_type": "code",
   "execution_count": 9,
   "metadata": {},
   "outputs": [
    {
     "data": {
      "text/plain": [
       "Not applicable    2867\n",
       "Name: How often meet face to face with co-workers to work on projects, dtype: int64"
      ]
     },
     "execution_count": 9,
     "metadata": {},
     "output_type": "execute_result"
    }
   ],
   "source": [
    "gss['How often meet face to face with co-workers to work on projects'].value_counts()"
   ]
  },
  {
   "cell_type": "code",
   "execution_count": 10,
   "metadata": {},
   "outputs": [
    {
     "data": {
      "text/plain": [
       "Not applicable    2867\n",
       "Name: How often meet face to face with customers, clients, patients, dtype: int64"
      ]
     },
     "execution_count": 10,
     "metadata": {},
     "output_type": "execute_result"
    }
   ],
   "source": [
    "gss['How often meet face to face with customers, clients, patients'].value_counts()"
   ]
  },
  {
   "cell_type": "code",
   "execution_count": 11,
   "metadata": {},
   "outputs": [
    {
     "data": {
      "text/plain": [
       "Not applicable    2867\n",
       "Name: R heard of persons in r's firm having jobs replaced by computers, dtype: int64"
      ]
     },
     "execution_count": 11,
     "metadata": {},
     "output_type": "execute_result"
    }
   ],
   "source": [
    "gss[\"R heard of persons in r's firm having jobs replaced by computers\"].value_counts()"
   ]
  },
  {
   "cell_type": "code",
   "execution_count": 12,
   "metadata": {},
   "outputs": [
    {
     "data": {
      "text/plain": [
       "Not applicable    2867\n",
       "Name: Jobs created are better than r's current job, dtype: int64"
      ]
     },
     "execution_count": 12,
     "metadata": {},
     "output_type": "execute_result"
    }
   ],
   "source": [
    "gss[\"Jobs created are better than r's current job\"].value_counts()"
   ]
  },
  {
   "cell_type": "code",
   "execution_count": 13,
   "metadata": {},
   "outputs": [
    {
     "data": {
      "text/plain": [
       "Not applicable    2867\n",
       "Name: Science makes our lives better, dtype: int64"
      ]
     },
     "execution_count": 13,
     "metadata": {},
     "output_type": "execute_result"
    }
   ],
   "source": [
    "gss['Science makes our lives better'].value_counts()"
   ]
  },
  {
   "cell_type": "code",
   "execution_count": 14,
   "metadata": {},
   "outputs": [
    {
     "data": {
      "text/plain": [
       "Not applicable           1477\n",
       "Moderately interested     637\n",
       "Very interested           570\n",
       "Not at all interested     179\n",
       "No answer                   3\n",
       "Dont know                   1\n",
       "Name: Interested in technologies, dtype: int64"
      ]
     },
     "execution_count": 14,
     "metadata": {},
     "output_type": "execute_result"
    }
   ],
   "source": [
    "gss['Interested in technologies'].value_counts()"
   ]
  },
  {
   "cell_type": "code",
   "execution_count": 15,
   "metadata": {},
   "outputs": [
    {
     "data": {
      "text/plain": [
       "No                1470\n",
       "Not applicable     979\n",
       "Yes                373\n",
       "Don't know          33\n",
       "No answer           12\n",
       "Name: Suicide if tired of living, dtype: int64"
      ]
     },
     "execution_count": 15,
     "metadata": {},
     "output_type": "execute_result"
    }
   ],
   "source": [
    "gss['Suicide if tired of living'].value_counts()"
   ]
  },
  {
   "cell_type": "code",
   "execution_count": 16,
   "metadata": {},
   "outputs": [
    {
     "data": {
      "text/plain": [
       "No                1671\n",
       "Not applicable     979\n",
       "Yes                193\n",
       "Don't know          17\n",
       "No answer            7\n",
       "Name: Suicide if dishonored family, dtype: int64"
      ]
     },
     "execution_count": 16,
     "metadata": {},
     "output_type": "execute_result"
    }
   ],
   "source": [
    "gss['Suicide if dishonored family'].value_counts()"
   ]
  },
  {
   "cell_type": "code",
   "execution_count": 17,
   "metadata": {},
   "outputs": [
    {
     "data": {
      "text/plain": [
       "No                1650\n",
       "Not applicable     979\n",
       "Yes                219\n",
       "Don't know          12\n",
       "No answer            7\n",
       "Name: Suicide if bankrupt, dtype: int64"
      ]
     },
     "execution_count": 17,
     "metadata": {},
     "output_type": "execute_result"
    }
   ],
   "source": [
    "gss['Suicide if bankrupt'].value_counts()"
   ]
  },
  {
   "cell_type": "code",
   "execution_count": 18,
   "metadata": {},
   "outputs": [
    {
     "data": {
      "text/plain": [
       "Yes               1198\n",
       "Not applicable     979\n",
       "No                 630\n",
       "Don't know          44\n",
       "No answer           16\n",
       "Name: Suicide if incurable disease, dtype: int64"
      ]
     },
     "execution_count": 18,
     "metadata": {},
     "output_type": "execute_result"
    }
   ],
   "source": [
    "gss['Suicide if incurable disease'].value_counts()"
   ]
  },
  {
   "cell_type": "code",
   "execution_count": 19,
   "metadata": {},
   "outputs": [
    {
     "data": {
      "text/plain": [
       "Not applicable     912\n",
       "Much better        573\n",
       "Somewhat better    555\n",
       "About the same     466\n",
       "Somewhat worse     238\n",
       "Much worse         100\n",
       "Don't know          20\n",
       "No answer            3\n",
       "Name: Rs living standard compared to parents, dtype: int64"
      ]
     },
     "execution_count": 19,
     "metadata": {},
     "output_type": "execute_result"
    }
   ],
   "source": [
    "gss['Rs living standard compared to parents'].value_counts()"
   ]
  },
  {
   "cell_type": "code",
   "execution_count": 20,
   "metadata": {},
   "outputs": [
    {
     "data": {
      "text/plain": [
       "Not applicable       1845\n",
       "Divorce,separated     581\n",
       "Other                 215\n",
       "Parent died           195\n",
       "Institution            13\n",
       "No answer              12\n",
       "Armed forces            4\n",
       "Don't know              2\n",
       "Name: Reason not living with parents, dtype: int64"
      ]
     },
     "execution_count": 20,
     "metadata": {},
     "output_type": "execute_result"
    }
   ],
   "source": [
    "gss['Reason not living with parents'].value_counts()"
   ]
  },
  {
   "cell_type": "code",
   "execution_count": 21,
   "metadata": {},
   "outputs": [
    {
     "data": {
      "text/plain": [
       "Mother & father       1845\n",
       "Mother                 489\n",
       "Mother & stpfather     170\n",
       "Other                  120\n",
       "Father                  80\n",
       "M and f relatives       70\n",
       "Female relative         41\n",
       "Father & stpmother      40\n",
       "Male relative           10\n",
       "No answer                2\n",
       "Name: Living with parents when 16 yrs old, dtype: int64"
      ]
     },
     "execution_count": 21,
     "metadata": {},
     "output_type": "execute_result"
    }
   ],
   "source": [
    "gss['Living with parents when 16 yrs old'].value_counts()"
   ]
  },
  {
   "cell_type": "code",
   "execution_count": 22,
   "metadata": {},
   "outputs": [
    {
     "data": {
      "text/plain": [
       "2827.0    1\n",
       "815.0     1\n",
       "2270.0    1\n",
       "734.0     1\n",
       "1442.0    1\n",
       "Name: Respondent id number, dtype: int64"
      ]
     },
     "execution_count": 22,
     "metadata": {},
     "output_type": "execute_result"
    }
   ],
   "source": [
    "gss['Respondent id number'].value_counts().head()"
   ]
  },
  {
   "cell_type": "code",
   "execution_count": 23,
   "metadata": {},
   "outputs": [
    {
     "data": {
      "text/plain": [
       "Ballot c    979\n",
       "Ballot b    977\n",
       "Ballot a    911\n",
       "Name: Ballot used for interview, dtype: int64"
      ]
     },
     "execution_count": 23,
     "metadata": {},
     "output_type": "execute_result"
    }
   ],
   "source": [
    "gss['Ballot used for interview'].value_counts()"
   ]
  },
  {
   "cell_type": "code",
   "execution_count": 24,
   "metadata": {},
   "outputs": [],
   "source": [
    "#Convertion of all values to small integers to make them easy to plot with colors.\n",
    "\n",
    "gss = gss.replace({'Not applicable' : None, \n",
    "                   'No answer' : None, \n",
    "                   \"Don't know\" : None\n",
    "                   })\n",
    " \n",
    "gss= gss.replace({'Moderately interested':1,\n",
    "                  'Very interested':2,\n",
    "                  'Not at all interested':0})\n",
    "\n",
    "gss=gss.replace({'Much better':2,\n",
    "                'Somewhat better':1,\n",
    "                 'About the same':0,\n",
    "                 'Somewhat worse':-1,\n",
    "                 'Much worse':-2})\n",
    "\n",
    "gss = gss.replace({'Yes':1, 'No':-1,'Dont know':0})\n",
    "\n",
    "gss= gss.replace({'Divorce,separated':1,\n",
    "                  'Other':2,\n",
    "                  'Parent died':3,\n",
    "                  'Institution':4,\n",
    "                  'Armed forces':5 \n",
    "                 })\n",
    "\n",
    "gss= gss.replace({'Mother & father':1,\n",
    "                  'Mother':2,\n",
    "                  'Mother & stpfather':3,\n",
    "                  'Other':4,\n",
    "                  'Father':5,\n",
    "                  'M and f relatives':6,\n",
    "                  'Female relative':7,\n",
    "                  'Father & stpmother':8,\n",
    "                  'Male relative':9 \n",
    "                 })\n",
    "\n",
    "\n",
    "gss = gss.drop(columns=['Respondent id number',\n",
    "                'Ballot used for interview'])\n",
    "\n",
    "gss = gss.replace({np.nan:0.0})"
   ]
  },
  {
   "cell_type": "code",
   "execution_count": 25,
   "metadata": {},
   "outputs": [],
   "source": [
    "# I was breaking my head with this one....however, it was a huge space after it! :@\n",
    "gss = gss.drop(columns=['Who makes decision about how to bring up children',\n",
    "                        'Single parents can raise kids as well as two','How often meet face to face with co-workers to work on projects',\n",
    "                        \"How often meet face to face with customers, clients, patients\",\n",
    "                        \"R heard of persons in r's firm having jobs replaced by computers\",\n",
    "                        \"Jobs created are better than r's current job\",'Science makes our lives better'],axis=1)"
   ]
  },
  {
   "cell_type": "code",
   "execution_count": 26,
   "metadata": {},
   "outputs": [],
   "source": [
    "gss = gss.drop(columns=['Gss year for this respondent                       '])"
   ]
  },
  {
   "cell_type": "code",
   "execution_count": 27,
   "metadata": {},
   "outputs": [
    {
     "data": {
      "text/html": [
       "<div>\n",
       "<style scoped>\n",
       "    .dataframe tbody tr th:only-of-type {\n",
       "        vertical-align: middle;\n",
       "    }\n",
       "\n",
       "    .dataframe tbody tr th {\n",
       "        vertical-align: top;\n",
       "    }\n",
       "\n",
       "    .dataframe thead th {\n",
       "        text-align: right;\n",
       "    }\n",
       "</style>\n",
       "<table border=\"1\" class=\"dataframe\">\n",
       "  <thead>\n",
       "    <tr style=\"text-align: right;\">\n",
       "      <th></th>\n",
       "      <th>Interested in technologies</th>\n",
       "      <th>Suicide if tired of living</th>\n",
       "      <th>Suicide if dishonored family</th>\n",
       "      <th>Suicide if bankrupt</th>\n",
       "      <th>Suicide if incurable disease</th>\n",
       "      <th>Rs living standard compared to parents</th>\n",
       "      <th>Reason not living with parents</th>\n",
       "      <th>Living with parents when 16 yrs old</th>\n",
       "    </tr>\n",
       "  </thead>\n",
       "  <tbody>\n",
       "    <tr>\n",
       "      <th>0</th>\n",
       "      <td>2.0</td>\n",
       "      <td>1.0</td>\n",
       "      <td>1.0</td>\n",
       "      <td>1.0</td>\n",
       "      <td>1.0</td>\n",
       "      <td>0.0</td>\n",
       "      <td>0.0</td>\n",
       "      <td>1.0</td>\n",
       "    </tr>\n",
       "    <tr>\n",
       "      <th>1</th>\n",
       "      <td>1.0</td>\n",
       "      <td>1.0</td>\n",
       "      <td>-1.0</td>\n",
       "      <td>-1.0</td>\n",
       "      <td>1.0</td>\n",
       "      <td>0.0</td>\n",
       "      <td>0.0</td>\n",
       "      <td>1.0</td>\n",
       "    </tr>\n",
       "    <tr>\n",
       "      <th>2</th>\n",
       "      <td>0.0</td>\n",
       "      <td>0.0</td>\n",
       "      <td>0.0</td>\n",
       "      <td>0.0</td>\n",
       "      <td>0.0</td>\n",
       "      <td>0.0</td>\n",
       "      <td>0.0</td>\n",
       "      <td>1.0</td>\n",
       "    </tr>\n",
       "    <tr>\n",
       "      <th>3</th>\n",
       "      <td>1.0</td>\n",
       "      <td>1.0</td>\n",
       "      <td>1.0</td>\n",
       "      <td>1.0</td>\n",
       "      <td>1.0</td>\n",
       "      <td>0.0</td>\n",
       "      <td>1.0</td>\n",
       "      <td>2.0</td>\n",
       "    </tr>\n",
       "    <tr>\n",
       "      <th>4</th>\n",
       "      <td>0.0</td>\n",
       "      <td>0.0</td>\n",
       "      <td>0.0</td>\n",
       "      <td>0.0</td>\n",
       "      <td>0.0</td>\n",
       "      <td>0.0</td>\n",
       "      <td>0.0</td>\n",
       "      <td>1.0</td>\n",
       "    </tr>\n",
       "    <tr>\n",
       "      <th>5</th>\n",
       "      <td>2.0</td>\n",
       "      <td>1.0</td>\n",
       "      <td>1.0</td>\n",
       "      <td>1.0</td>\n",
       "      <td>1.0</td>\n",
       "      <td>1.0</td>\n",
       "      <td>2.0</td>\n",
       "      <td>2.0</td>\n",
       "    </tr>\n",
       "    <tr>\n",
       "      <th>6</th>\n",
       "      <td>1.0</td>\n",
       "      <td>0.0</td>\n",
       "      <td>-1.0</td>\n",
       "      <td>-1.0</td>\n",
       "      <td>1.0</td>\n",
       "      <td>0.0</td>\n",
       "      <td>0.0</td>\n",
       "      <td>1.0</td>\n",
       "    </tr>\n",
       "    <tr>\n",
       "      <th>7</th>\n",
       "      <td>0.0</td>\n",
       "      <td>0.0</td>\n",
       "      <td>0.0</td>\n",
       "      <td>0.0</td>\n",
       "      <td>0.0</td>\n",
       "      <td>2.0</td>\n",
       "      <td>0.0</td>\n",
       "      <td>1.0</td>\n",
       "    </tr>\n",
       "    <tr>\n",
       "      <th>8</th>\n",
       "      <td>2.0</td>\n",
       "      <td>-1.0</td>\n",
       "      <td>-1.0</td>\n",
       "      <td>-1.0</td>\n",
       "      <td>-1.0</td>\n",
       "      <td>0.0</td>\n",
       "      <td>0.0</td>\n",
       "      <td>1.0</td>\n",
       "    </tr>\n",
       "    <tr>\n",
       "      <th>9</th>\n",
       "      <td>0.0</td>\n",
       "      <td>0.0</td>\n",
       "      <td>0.0</td>\n",
       "      <td>0.0</td>\n",
       "      <td>0.0</td>\n",
       "      <td>0.0</td>\n",
       "      <td>0.0</td>\n",
       "      <td>1.0</td>\n",
       "    </tr>\n",
       "  </tbody>\n",
       "</table>\n",
       "</div>"
      ],
      "text/plain": [
       "   Interested in technologies  Suicide if tired of living  \\\n",
       "0                         2.0                         1.0   \n",
       "1                         1.0                         1.0   \n",
       "2                         0.0                         0.0   \n",
       "3                         1.0                         1.0   \n",
       "4                         0.0                         0.0   \n",
       "5                         2.0                         1.0   \n",
       "6                         1.0                         0.0   \n",
       "7                         0.0                         0.0   \n",
       "8                         2.0                        -1.0   \n",
       "9                         0.0                         0.0   \n",
       "\n",
       "   Suicide if dishonored family  Suicide if bankrupt  \\\n",
       "0                           1.0                  1.0   \n",
       "1                          -1.0                 -1.0   \n",
       "2                           0.0                  0.0   \n",
       "3                           1.0                  1.0   \n",
       "4                           0.0                  0.0   \n",
       "5                           1.0                  1.0   \n",
       "6                          -1.0                 -1.0   \n",
       "7                           0.0                  0.0   \n",
       "8                          -1.0                 -1.0   \n",
       "9                           0.0                  0.0   \n",
       "\n",
       "   Suicide if incurable disease  Rs living standard compared to parents  \\\n",
       "0                           1.0                                     0.0   \n",
       "1                           1.0                                     0.0   \n",
       "2                           0.0                                     0.0   \n",
       "3                           1.0                                     0.0   \n",
       "4                           0.0                                     0.0   \n",
       "5                           1.0                                     1.0   \n",
       "6                           1.0                                     0.0   \n",
       "7                           0.0                                     2.0   \n",
       "8                          -1.0                                     0.0   \n",
       "9                           0.0                                     0.0   \n",
       "\n",
       "   Reason not living with parents  Living with parents when 16 yrs old  \n",
       "0                             0.0                                  1.0  \n",
       "1                             0.0                                  1.0  \n",
       "2                             0.0                                  1.0  \n",
       "3                             1.0                                  2.0  \n",
       "4                             0.0                                  1.0  \n",
       "5                             2.0                                  2.0  \n",
       "6                             0.0                                  1.0  \n",
       "7                             0.0                                  1.0  \n",
       "8                             0.0                                  1.0  \n",
       "9                             0.0                                  1.0  "
      ]
     },
     "execution_count": 27,
     "metadata": {},
     "output_type": "execute_result"
    }
   ],
   "source": [
    "gss.head(10)"
   ]
  },
  {
   "cell_type": "markdown",
   "metadata": {},
   "source": [
    "### 4. Plot those vectors!\n",
    "For this assignment, we'll use the PCA projection algorithm to make 2D (or 3D!) pictures of the set of vectors. Once you have the vectors, it should be easy to make a PCA plot using the steps we followed in class.\n",
    "    "
   ]
  },
  {
   "cell_type": "code",
   "execution_count": 28,
   "metadata": {},
   "outputs": [],
   "source": [
    "#Principal Components Analysis \n",
    "# make a PCA plot here\n",
    "model = PCA(n_components=2)\n",
    "out = model.fit_transform(gss)"
   ]
  },
  {
   "cell_type": "code",
   "execution_count": 31,
   "metadata": {},
   "outputs": [
    {
     "data": {
      "image/png": "[encoded data removed]",
      "text/plain": [
       "<Figure size 432x288 with 1 Axes>"
      ]
     },
     "metadata": {},
     "output_type": "display_data"
    }
   ],
   "source": [
    "plt.scatter(out[:, 0], out[:, 1])\n",
    "plt.show()"
   ]
  },
  {
   "cell_type": "code",
   "execution_count": 46,
   "metadata": {},
   "outputs": [
    {
     "data": {
      "text/plain": [
       "<mpl_toolkits.mplot3d.art3d.Path3DCollection at 0x1c1f0f0>"
      ]
     },
     "execution_count": 46,
     "metadata": {},
     "output_type": "execute_result"
    }
   ],
   "source": [
    "from mpl_toolkits.mplot3d import Axes3D\n",
    "model = PCA(n_components=3)\n",
    "out = model.fit_transform(gss.iloc[:,2:])  \n",
    "ax = Axes3D(fig)\n",
    "ax.view_init(elev=30, azim=45)\n",
    "ax.scatter(out[:, 0], out[:, 1], out[:, 2])"
   ]
  },
  {
   "cell_type": "code",
   "execution_count": 48,
   "metadata": {},
   "outputs": [
    {
     "data": {
      "text/plain": [
       "<mpl_toolkits.mplot3d.art3d.Path3DCollection at 0x1d7e490>"
      ]
     },
     "execution_count": 48,
     "metadata": {},
     "output_type": "execute_result"
    },
    {
     "data": {
      "image/png": "[encoded data removed]",
      "text/plain": [
       "<Figure size 432x288 with 1 Axes>"
      ]
     },
     "metadata": {},
     "output_type": "display_data"
    }
   ],
   "source": [
    "fig = plt.figure()\n",
    "ax = Axes3D(fig)\n",
    "ax.view_init(elev=30, azim=45)\n",
    "ax.scatter(out[:, 0], out[:, 1], out[:, 2])"
   ]
  },
  {
   "cell_type": "markdown",
   "metadata": {},
   "source": [
    "### 5. Add color to help interpretation\n",
    "Congratulations, you have a picture of a blob of dots. Hopefully, that blob has some structure representing clusters of similar people. To understand what the plot is telling us, it really helps to take one of the original variables and use it to assign colors to the points. \n",
    "\n",
    "So: pick one of the questions that you think will separate people into natural groups. Use it to set the color of the dots in your scatterplot. By repeating this with different questions, or combining questions (like two binary questions giving rise to a four color scheme) you should be able to figure out what the structure of the clusters represents. \n"
   ]
  },
  {
   "cell_type": "code",
   "execution_count": 32,
   "metadata": {},
   "outputs": [],
   "source": [
    "# map integer columns to colors\n",
    "def col2colors(colvals):\n",
    "    # gray for zero, then a rainbow.\n",
    "    # This is set up so yes = 1 = red and no = -1 = indigo\n",
    "    my_colors = ['gray', 'red','orange','yellow','lightgreen','cyan','blue','indigo']\n",
    "    \n",
    "    # We may have integers higher than len(my_colors) or less than zero\n",
    "    # So use the mod operator (%) to make values \"wrap around\" when they go off the end of the list\n",
    "    column_ints = colvals.astype(int) % len(my_colors)\n",
    "    \n",
    "    # map each index to the corresponding color\n",
    "    return column_ints.apply(lambda x: my_colors[x])"
   ]
  },
  {
   "cell_type": "code",
   "execution_count": 33,
   "metadata": {},
   "outputs": [
    {
     "data": {
      "image/png": "[encoded data removed]",
      "text/plain": [
       "<Figure size 432x288 with 1 Axes>"
      ]
     },
     "metadata": {},
     "output_type": "display_data"
    }
   ],
   "source": [
    "#Plots:\n",
    "\n",
    "plt.scatter(out[:, 0], out[:, 1], c=col2colors(gss['Interested in technologies']))\n",
    "plt.show()"
   ]
  },
  {
   "cell_type": "code",
   "execution_count": 34,
   "metadata": {},
   "outputs": [
    {
     "data": {
      "image/png": "[encoded data removed]",
      "text/plain": [
       "<Figure size 432x288 with 1 Axes>"
      ]
     },
     "metadata": {},
     "output_type": "display_data"
    }
   ],
   "source": [
    "plt.scatter(out[:, 0], out[:, 1], c=col2colors(gss['Suicide if tired of living']))\n",
    "plt.show()"
   ]
  },
  {
   "cell_type": "code",
   "execution_count": 35,
   "metadata": {},
   "outputs": [
    {
     "data": {
      "image/png": "[encoded data removed]",
      "text/plain": [
       "<Figure size 432x288 with 1 Axes>"
      ]
     },
     "metadata": {},
     "output_type": "display_data"
    }
   ],
   "source": [
    "plt.scatter(out[:, 0], out[:, 1], c=col2colors(gss['Suicide if dishonored family']))\n",
    "plt.show()"
   ]
  },
  {
   "cell_type": "code",
   "execution_count": 36,
   "metadata": {},
   "outputs": [
    {
     "data": {
      "image/png": "[encoded data removed]",
      "text/plain": [
       "<Figure size 432x288 with 1 Axes>"
      ]
     },
     "metadata": {},
     "output_type": "display_data"
    }
   ],
   "source": [
    "plt.scatter(out[:, 0], out[:, 1], c=col2colors(gss['Suicide if incurable disease']))\n",
    "plt.show()"
   ]
  },
  {
   "cell_type": "markdown",
   "metadata": {},
   "source": [
    "### 6. Tell us what it means?\n",
    "What did you learn from this exercise? Did you find the standard left-right divide? Or urban-rural? Early adopters vs. luddites? People with vs. without children? \n",
    "\n",
    "What did you learn? What could end up in a story? \n"
   ]
  },
  {
   "cell_type": "code",
   "execution_count": null,
   "metadata": {},
   "outputs": [],
   "source": []
  }
 ],
 "metadata": {
  "kernelspec": {
   "display_name": "Python 3",
   "language": "python",
   "name": "python3"
  },
  "language_info": {
   "codemirror_mode": {
    "name": "ipython",
    "version": 3
   },
   "file_extension": ".py",
   "mimetype": "text/x-python",
   "name": "python",
   "nbconvert_exporter": "python",
   "pygments_lexer": "ipython3",
   "version": "3.6.5"
  }
 },
 "nbformat": 4,
 "nbformat_minor": 2
}
